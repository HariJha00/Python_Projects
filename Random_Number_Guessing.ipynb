{
  "nbformat": 4,
  "nbformat_minor": 0,
  "metadata": {
    "colab": {
      "provenance": [],
      "authorship_tag": "ABX9TyOcpZCdRrQsbwbeGnfEMnX1",
      "include_colab_link": true
    },
    "kernelspec": {
      "name": "python3",
      "display_name": "Python 3"
    },
    "language_info": {
      "name": "python"
    }
  },
  "cells": [
    {
      "cell_type": "markdown",
      "metadata": {
        "id": "view-in-github",
        "colab_type": "text"
      },
      "source": [
        "<a href=\"https://colab.research.google.com/github/HariJha00/Python_Projects/blob/main/Random_Number_Guessing.ipynb\" target=\"_parent\"><img src=\"https://colab.research.google.com/assets/colab-badge.svg\" alt=\"Open In Colab\"/></a>"
      ]
    },
    {
      "cell_type": "markdown",
      "source": [
        "# ***Random Number Guessing Game***"
      ],
      "metadata": {
        "id": "EULFSxaFSudC"
      }
    },
    {
      "cell_type": "code",
      "execution_count": 1,
      "metadata": {
        "colab": {
          "base_uri": "https://localhost:8080/"
        },
        "id": "m7XJkwkbSm5R",
        "outputId": "ebfd3da4-8d85-44a1-cb7d-ecc5dc32035c"
      },
      "outputs": [
        {
          "output_type": "stream",
          "name": "stdout",
          "text": [
            "21\n",
            "wrong guess, Try smaller no\n",
            "19\n",
            "wrong guess, Try smaller no\n",
            "11\n",
            "wrong guess, Try smaller no\n",
            "6\n",
            "wrong guess, Try greater no\n",
            "9\n",
            "wrong guess, Try greater no\n",
            "10\n",
            "Congratulations!! you have found the no\n"
          ]
        }
      ],
      "source": [
        "import random\n",
        "rand = random.randint(0,20)\n",
        "\n",
        "while(True):\n",
        "  inp = int(input())\n",
        "  if(inp<rand):\n",
        "    print(\"wrong guess, Try greater no\")\n",
        "  elif(inp>rand):\n",
        "    print(\"wrong guess, Try smaller no\")\n",
        "  else:\n",
        "    print(\"Congratulations!! you have found the no\")\n",
        "    break;"
      ]
    }
  ]
}