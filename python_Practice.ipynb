{
  "nbformat": 4,
  "nbformat_minor": 0,
  "metadata": {
    "colab": {
      "provenance": [],
      "authorship_tag": "ABX9TyMO2vrvFHFvGZBOwwj2GEEj",
      "include_colab_link": true
    },
    "kernelspec": {
      "name": "python3",
      "display_name": "Python 3"
    },
    "language_info": {
      "name": "python"
    }
  },
  "cells": [
    {
      "cell_type": "markdown",
      "metadata": {
        "id": "view-in-github",
        "colab_type": "text"
      },
      "source": [
        "<a href=\"https://colab.research.google.com/github/HariJha00/Python_Projects/blob/main/python_Practice.ipynb\" target=\"_parent\"><img src=\"https://colab.research.google.com/assets/colab-badge.svg\" alt=\"Open In Colab\"/></a>"
      ]
    },
    {
      "cell_type": "code",
      "execution_count": 2,
      "metadata": {
        "colab": {
          "base_uri": "https://localhost:8080/"
        },
        "id": "JojMAI9zI3fJ",
        "outputId": "0bf82068-3d1a-4fbe-c1e1-f7b8b712b873"
      },
      "outputs": [
        {
          "output_type": "stream",
          "name": "stdout",
          "text": [
            "Hello World\n"
          ]
        }
      ],
      "source": [
        "print(\"Hello World\");"
      ]
    },
    {
      "cell_type": "code",
      "source": [
        "a=10;\n",
        "b=10\n",
        "print(a+b)"
      ],
      "metadata": {
        "colab": {
          "base_uri": "https://localhost:8080/"
        },
        "id": "FQXWOvxjJFfb",
        "outputId": "a1e46fa7-e5e0-4194-fd6d-4cb6ac2b8110"
      },
      "execution_count": 4,
      "outputs": [
        {
          "output_type": "stream",
          "name": "stdout",
          "text": [
            "20\n"
          ]
        }
      ]
    },
    {
      "cell_type": "code",
      "source": [
        "for i in range(2,6):\n",
        "  print(\"Hari\")\n"
      ],
      "metadata": {
        "colab": {
          "base_uri": "https://localhost:8080/"
        },
        "id": "Cp2FsTk5JOsg",
        "outputId": "3a4eda6f-6f31-4a7c-97f0-ffa573ad91d6"
      },
      "execution_count": 10,
      "outputs": [
        {
          "output_type": "stream",
          "name": "stdout",
          "text": [
            "Hari\n",
            "Hari\n",
            "Hari\n",
            "Hari\n"
          ]
        }
      ]
    },
    {
      "cell_type": "markdown",
      "source": [
        "# ***Random Number Guessing Game***"
      ],
      "metadata": {
        "id": "5InP__uYOUdf"
      }
    },
    {
      "cell_type": "code",
      "source": [
        "import random\n",
        "rand = random.randint(0,20)\n",
        "\n",
        "while(True):\n",
        "  inp = int(input())\n",
        "  if(inp<rand):\n",
        "    print(\"wrong guess, Try greater no\")\n",
        "  elif(inp>rand):\n",
        "    print(\"wrong guess, Try smaller no\")\n",
        "  else:\n",
        "    print(\"Congratulations!! you have found the no\")\n",
        "    break;"
      ],
      "metadata": {
        "colab": {
          "base_uri": "https://localhost:8080/"
        },
        "id": "aRZx4EccJttu",
        "outputId": "18e73063-2e7c-4f04-9660-dc5ae09cafaf"
      },
      "execution_count": 3,
      "outputs": [
        {
          "output_type": "stream",
          "name": "stdout",
          "text": [
            "21\n",
            "wrong guess, Try smaller no\n",
            "12\n",
            "wrong guess, Try greater no\n",
            "14\n",
            "wrong guess, Try greater no\n",
            "17\n",
            "wrong guess, Try greater no\n",
            "19\n",
            "Congratulations!! you have found the no\n"
          ]
        }
      ]
    },
    {
      "cell_type": "code",
      "source": [
        "inp = int(input())\n",
        "\n",
        "if(inp<10):\n",
        "  print(\"Hari\")\n",
        "elif(inp>10):\n",
        "  print(\"Hari Jha\")\n",
        "else:\n",
        "  print(\"Jha\")"
      ],
      "metadata": {
        "colab": {
          "base_uri": "https://localhost:8080/"
        },
        "id": "1nvXApi6NWkA",
        "outputId": "d42605d4-c078-49b9-86b6-0857d13202e8"
      },
      "execution_count": 4,
      "outputs": [
        {
          "output_type": "stream",
          "name": "stdout",
          "text": [
            "12\n",
            "Hari Jha\n"
          ]
        }
      ]
    }
  ]
}